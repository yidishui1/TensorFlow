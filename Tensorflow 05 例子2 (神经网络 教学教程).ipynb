{
 "cells": [
  {
   "cell_type": "code",
   "execution_count": 3,
   "metadata": {},
   "outputs": [
    {
     "name": "stdout",
     "output_type": "stream",
     "text": [
      "0 [ 0.14122921] [ 0.37495565]\n",
      "20 [ 0.10039803] [ 0.29979232]\n",
      "40 [ 0.1000953] [ 0.29995027]\n",
      "60 [ 0.10002282] [ 0.29998809]\n",
      "80 [ 0.10000549] [ 0.29999715]\n",
      "100 [ 0.10000134] [ 0.29999933]\n",
      "120 [ 0.10000031] [ 0.29999986]\n",
      "140 [ 0.1000001] [ 0.29999995]\n",
      "160 [ 0.1000001] [ 0.29999995]\n",
      "180 [ 0.1000001] [ 0.29999995]\n",
      "200 [ 0.1000001] [ 0.29999995]\n"
     ]
    }
   ],
   "source": [
    "import tensorflow as tf\n",
    "import numpy as np\n",
    "\n",
    "#create data\n",
    "x_data=np.random.rand(1000).astype(np.float32)\n",
    "y_data=x_data*0.1+0.3\n",
    "\n",
    "##create tensorflow structure start##\n",
    "Weights=tf.Variable(tf.random_uniform([1],-1.0,1.0))\n",
    "biases=tf.Variable(tf.zeros([1]))\n",
    "\n",
    "y=Weights*x_data+biases\n",
    "\n",
    "loss=tf.reduce_mean(tf.square(y-y_data))\n",
    "optimizer=tf.train.GradientDescentOptimizer(0.5)\n",
    "train=optimizer.minimize(loss)\n",
    "\n",
    "init=tf.global_variables_initializer()\n",
    "\n",
    "##tensorflow structure end ##\n",
    "sess=tf.Session()\n",
    "sess.run(init)\n",
    "\n",
    "for step in range(201):\n",
    "    sess.run(train)\n",
    "    if step % 20==0:\n",
    "        print(step,sess.run(Weights),sess.run(biases))"
   ]
  },
  {
   "cell_type": "code",
   "execution_count": null,
   "metadata": {
    "collapsed": true
   },
   "outputs": [],
   "source": []
  }
 ],
 "metadata": {
  "kernelspec": {
   "display_name": "Python 3",
   "language": "python",
   "name": "python3"
  },
  "language_info": {
   "codemirror_mode": {
    "name": "ipython",
    "version": 3
   },
   "file_extension": ".py",
   "mimetype": "text/x-python",
   "name": "python",
   "nbconvert_exporter": "python",
   "pygments_lexer": "ipython3",
   "version": "3.6.3"
  }
 },
 "nbformat": 4,
 "nbformat_minor": 2
}
