{
 "cells": [
  {
   "cell_type": "code",
   "execution_count": null,
   "metadata": {},
   "outputs": [],
   "source": [
    "import tensorflow as tf\n",
    "\n",
    "def add_layer(inputs,in_size,out_size,activation_function=None):\n",
    "\tWeights=tf.Variable(tf.random_normal([in_size,out_size]))\n",
    "\tbiases=tf.Variable(tf.zero([1,out_size]+0.1))\n",
    "\tWx_plus_b=tf.matmul(inputs,Weights)+biases\n",
    "\tif activation_function is None:\n",
    "\t\toutputs=Wx_plus_b\n",
    "\telse:\n",
    "\t\toutputs=activation_function(Wx_plus_b)\n",
    "\treturn outputs"
   ]
  }
 ],
 "metadata": {
  "kernelspec": {
   "display_name": "Python 3",
   "language": "python",
   "name": "python3"
  },
  "language_info": {
   "codemirror_mode": {
    "name": "ipython",
    "version": 3
   },
   "file_extension": ".py",
   "mimetype": "text/x-python",
   "name": "python",
   "nbconvert_exporter": "python",
   "pygments_lexer": "ipython3",
   "version": "3.6.3"
  }
 },
 "nbformat": 4,
 "nbformat_minor": 2
}
