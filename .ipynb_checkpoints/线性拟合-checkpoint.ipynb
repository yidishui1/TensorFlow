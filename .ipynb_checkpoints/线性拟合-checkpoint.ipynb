{
 "cells": [
  {
   "cell_type": "code",
   "execution_count": 2,
   "metadata": {},
   "outputs": [],
   "source": [
    "import tensorflow as tf\n",
    "import numpy as np\n",
    "\n",
    "## prepare the original data\n",
    "with tf.name_scope('data'):\n",
    "    x_data = np.random.rand(100).astype(np.float32)\n",
    "    y_data = 0.3*x_data+0.1\n",
    "##creat parameters\n",
    "with tf.name_scope('parameters'):\n",
    "     with tf.name_scope('weights'):\n",
    "        weight = tf.Variable(tf.random_uniform([1],-1.0,1.0))\n",
    "        tf.summary.histogram('weight',weight)\n",
    "     with tf.name_scope('biases'):\n",
    "        bias = tf.Variable(tf.zeros([1]))\n",
    "        tf.summary.histogram('bias',bias)\n",
    "##get y_prediction\n",
    "with tf.name_scope('y_prediction'):\n",
    "    y_prediction = weight*x_data+bias\n",
    "##compute the loss\n",
    "with tf.name_scope('loss'):\n",
    "    loss = tf.reduce_mean(tf.square(y_data-y_prediction))\n",
    "    tf.summary.scalar('loss',loss)\n",
    "##creat optimizer\n",
    "optimizer = tf.train.GradientDescentOptimizer(0.5)\n",
    "#creat train ,minimize the loss \n",
    "with tf.name_scope('train'):\n",
    "    train = optimizer.minimize(loss)\n",
    "#creat init\n",
    "with tf.name_scope('init'): \n",
    "    init = tf.global_variables_initializer()\n",
    "##creat a Session \n",
    "sess = tf.Session()\n",
    "#merged\n",
    "merged = tf.summary.merge_all()\n",
    "##initialize\n",
    "writer = tf.summary.FileWriter(\"logs/\", sess.graph)\n",
    "sess.run(init)\n",
    "## Loop\n",
    "for step  in  range(101):\n",
    "    sess.run(train)\n",
    "    rs=sess.run(merged)\n",
    "    writer.add_summary(rs, step)"
   ]
  }
 ],
 "metadata": {
  "kernelspec": {
   "display_name": "Python 3",
   "language": "python",
   "name": "python3"
  },
  "language_info": {
   "codemirror_mode": {
    "name": "ipython",
    "version": 3
   },
   "file_extension": ".py",
   "mimetype": "text/x-python",
   "name": "python",
   "nbconvert_exporter": "python",
   "pygments_lexer": "ipython3",
   "version": "3.6.2"
  }
 },
 "nbformat": 4,
 "nbformat_minor": 2
}
