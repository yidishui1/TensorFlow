{
 "cells": [
  {
   "cell_type": "code",
   "execution_count": 1,
   "metadata": {
    "collapsed": true
   },
   "outputs": [],
   "source": [
    "import tensorflow as tf\n",
    "import numpy as np\n",
    "import matplotlib.pyplot as plt\n",
    "\n",
    "def add_layer(inputs,in_size,out_size,activation_function=None):\n",
    "\t#add one more layer and return the output of this layer\n",
    "\twith tf.name_scope('layer'):\n",
    "\t\twith tf.name_scope('weights'):\n",
    "\t\t\tWeights=tf.Variable(tf.random_normal([in_size,out_size]),name='W')\n",
    "\t\twith tf.name_scope('biases'):\n",
    "\t\t\tbiases=tf.Variable(tf.zeros([1,out_size])+0.1)\n",
    "\t\twith tf.name_scope('Wx_plus_b'):\n",
    "\t\t\tWx_plus_b=tf.matmul(inputs,Weights)+biases\n",
    "\t\tif activation_function is None:\n",
    "\t\t\toutputs=Wx_plus_b\n",
    "\t\telse:\n",
    "\t\t\toutputs=activation_function(Wx_plus_b)\n",
    "\t\treturn outputs\n",
    "\n",
    "x_data=np.linspace(-1,1,300)[:,np.newaxis]\n",
    "noise=np.random.normal(0,0.05,x_data.shape)\n",
    "y_data=np.square(x_data)-0.5+noise\n",
    "\n",
    "#define placeholder for inputs to network\n",
    "with tf.name_scope('inputs'):\n",
    "\txs=tf.placeholder(tf.float32,[None,1],name='x_input')\n",
    "\tys=tf.placeholder(tf.float32,[None,1],name='y_input')\n",
    "\n",
    "#add hidden layer\n",
    "l1=add_layer(xs,1,10,activation_function=tf.nn.relu)\n",
    "#add output layer\n",
    "prediction=add_layer(l1,10,1,activation_function=None)\n",
    "\n",
    "# the error between prediction and real data\n",
    "with tf.name_scope('loss'):\n",
    "\tloss=tf.reduce_mean(tf.reduce_sum(tf.square(ys-prediction),\n",
    "\t\t\treduction_indices=[1]))\n",
    "with tf.name_scope('train'):\n",
    "\ttrain_step=tf.train.GradientDescentOptimizer(0.1).minimize(loss)\n",
    "\n",
    "sess=tf.Session()\n",
    "\n",
    "writer = tf.summary.FileWriter(\"logs/\", sess.graph)\n",
    "#important step\n",
    "sess.run(tf.global_variables_initializer())"
   ]
  }
 ],
 "metadata": {
  "kernelspec": {
   "display_name": "Python 3",
   "language": "python",
   "name": "python3"
  },
  "language_info": {
   "codemirror_mode": {
    "name": "ipython",
    "version": 3
   },
   "file_extension": ".py",
   "mimetype": "text/x-python",
   "name": "python",
   "nbconvert_exporter": "python",
   "pygments_lexer": "ipython3",
   "version": "3.6.2"
  }
 },
 "nbformat": 4,
 "nbformat_minor": 2
}
