{
 "cells": [
  {
   "cell_type": "code",
   "execution_count": 5,
   "metadata": {},
   "outputs": [
    {
     "data": {
      "image/png": "[encoded data removed]",
      "text/plain": [
       "<matplotlib.figure.Figure at 0x27f4cd80828>"
      ]
     },
     "metadata": {},
     "output_type": "display_data"
    }
   ],
   "source": [
    "import tensorflow as tf\n",
    "import numpy as np\n",
    "import matplotlib.pyplot as plt\n",
    "\n",
    "def add_layer(inputs,in_size,out_size,activation_function=None):\n",
    "\tWeights=tf.Variable(tf.random_normal([in_size,out_size]))\n",
    "\tbiases=tf.Variable(tf.zeros([1,out_size])+0.1)\n",
    "\tWx_plus_b=tf.matmul(inputs,Weights)+biases\n",
    "\tif activation_function is None:\n",
    "\t\toutputs=Wx_plus_b\n",
    "\telse:\n",
    "\t\toutputs=activation_function(Wx_plus_b)\n",
    "\treturn outputs\n",
    "\n",
    "x_data=np.linspace(-1,1,300)[:,np.newaxis]\n",
    "noise=np.random.normal(0,0.05,x_data.shape)\n",
    "y_data=np.square(x_data)-0.5+noise\n",
    "\n",
    "xs=tf.placeholder(tf.float32,[None,1])\n",
    "ys=tf.placeholder(tf.float32,[None,1])\n",
    "l1=add_layer(xs,1,10,activation_function=tf.nn.relu)\n",
    "prediction=add_layer(l1,10,1,activation_function=None)\n",
    "\n",
    "loss=tf.reduce_mean(tf.reduce_sum(tf.square(ys-prediction),\n",
    "\t\t\treduction_indices=[1]))\n",
    "\n",
    "train_step=tf.train.GradientDescentOptimizer(0.1).minimize(loss)\n",
    "\n",
    "init=tf.global_variables_initializer()\n",
    "sess=tf.Session()\n",
    "sess.run(init)\n",
    "\n",
    "fig=plt.figure()\n",
    "ax=fig.add_subplot(1,1,1)\n",
    "ax.scatter(x_data,y_data)\n",
    "plt.ion()\n",
    "plt.show()\n",
    "\n",
    "\n",
    "\n",
    "for i in range(1000):\n",
    "\tsess.run(train_step,feed_dict={xs:x_data,ys:y_data})\n",
    "\tif i % 50==0:\n",
    "\t\t#to see the step improvement\n",
    "\t\t#print(sess.run(loss,feed_dict={xs:x_data,ys:y_data}))\n",
    "\t\ttry:\n",
    "\t\t\tax.lines.remove(lines[0])\n",
    "\t\texcept Exception:\n",
    "\t\t\tpass\n",
    "\t\tprediction_value=sess.run(prediction,feed_dict={xs:x_data})\n",
    "\t\tlines=ax.plot(x_data,prediction_value,'r-',lw=5)\n",
    "\t\tplt.pause(0.1)"
   ]
  }
 ],
 "metadata": {
  "kernelspec": {
   "display_name": "Python 3",
   "language": "python",
   "name": "python3"
  },
  "language_info": {
   "codemirror_mode": {
    "name": "ipython",
    "version": 3
   },
   "file_extension": ".py",
   "mimetype": "text/x-python",
   "name": "python",
   "nbconvert_exporter": "python",
   "pygments_lexer": "ipython3",
   "version": "3.6.2"
  }
 },
 "nbformat": 4,
 "nbformat_minor": 2
}
