{
 "cells": [
  {
   "cell_type": "code",
   "execution_count": 5,
   "metadata": {},
   "outputs": [
    {
     "name": "stdout",
     "output_type": "stream",
     "text": [
      "Extracting MNIST_data\\train-images-idx3-ubyte.gz\n",
      "Extracting MNIST_data\\train-labels-idx1-ubyte.gz\n",
      "Extracting MNIST_data\\t10k-images-idx3-ubyte.gz\n",
      "Extracting MNIST_data\\t10k-labels-idx1-ubyte.gz\n",
      "0.1503\n",
      "0.6486\n",
      "0.7419\n",
      "0.7762\n",
      "0.8043\n",
      "0.8236\n",
      "0.8337\n",
      "0.8391\n",
      "0.8431\n",
      "0.8508\n",
      "0.8587\n",
      "0.8616\n",
      "0.8654\n",
      "0.865\n",
      "0.8681\n",
      "0.869\n",
      "0.8728\n",
      "0.8736\n",
      "0.8757\n",
      "0.8758\n"
     ]
    }
   ],
   "source": [
    "import tensorflow as tf \n",
    "from tensorflow.examples.tutorials.mnist import input_data\n",
    "\n",
    "#number 1 to 10 data\n",
    "mnist=input_data.read_data_sets('MNIST_data',one_hot=True)\n",
    "\n",
    "def add_layer(inputs,in_size,out_size,activation_function=None):\n",
    "\t#add one more layer and return the output of this layer\n",
    "\tWeights=tf.Variable(tf.random_normal([in_size,out_size]))\n",
    "\tbiases=tf.Variable(tf.zeros([1,out_size])+0.1)\n",
    "\tWx_plus_b=tf.matmul(inputs,Weights)+biases\n",
    "\tif activation_function is None:\n",
    "\t\toutputs=Wx_plus_b\n",
    "\telse:\n",
    "\t\toutputs=activation_function(Wx_plus_b)\n",
    "\treturn outputs\n",
    "\n",
    "def compute_accuracy(v_xs,v_ys):\n",
    "\tglobal prediction\n",
    "\ty_pre=sess.run(prediction,feed_dict={xs:v_xs})\n",
    "\tcorrect_prediction=tf.equal(tf.argmax(y_pre,1),tf.argmax(v_ys,1))\n",
    "\taccuracy=tf.reduce_mean(tf.cast(correct_prediction,tf.float32))\n",
    "\tresult=sess.run(accuracy,feed_dict={xs:v_xs,ys:v_ys})\n",
    "\treturn result\n",
    "\n",
    "#define placeholder for inputs to network\n",
    "xs=tf.placeholder(tf.float32,[None,784]) #28*28\n",
    "ys=tf.placeholder(tf.float32,[None,10])\n",
    "\n",
    "#add output layer\n",
    "prediction=add_layer(xs,784,10,activation_function=tf.nn.softmax)\n",
    "\n",
    "#the error between prediction and real data\n",
    "cross_entropy=tf.reduce_mean(-tf.reduce_sum(ys*tf.log(prediction),reduction_indices=[1])) #loss\n",
    "\n",
    "train_step=tf.train.GradientDescentOptimizer(0.5).minimize(cross_entropy)\n",
    "\n",
    "sess=tf.Session()\n",
    "\n",
    "#important step\n",
    "sess.run(tf.global_variables_initializer())\n",
    "\n",
    "for i in range(1000):\n",
    "\tbatch_xs,batch_ys=mnist.train.next_batch(100)\n",
    "\tsess.run(train_step,feed_dict={xs:batch_xs,ys:batch_ys})\n",
    "\tif i%50==0:\n",
    "\t\tprint(compute_accuracy(mnist.test.images,mnist.test.labels))"
   ]
  }
 ],
 "metadata": {
  "kernelspec": {
   "display_name": "Python 3",
   "language": "python",
   "name": "python3"
  },
  "language_info": {
   "codemirror_mode": {
    "name": "ipython",
    "version": 3
   },
   "file_extension": ".py",
   "mimetype": "text/x-python",
   "name": "python",
   "nbconvert_exporter": "python",
   "pygments_lexer": "ipython3",
   "version": "3.6.2"
  }
 },
 "nbformat": 4,
 "nbformat_minor": 2
}
