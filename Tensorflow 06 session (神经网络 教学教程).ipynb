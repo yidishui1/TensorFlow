{
 "cells": [
  {
   "cell_type": "code",
   "execution_count": 1,
   "metadata": {},
   "outputs": [
    {
     "name": "stdout",
     "output_type": "stream",
     "text": [
      "[[12]]\n",
      "[[12]]\n"
     ]
    }
   ],
   "source": [
    "import tensorflow as tf\n",
    "import numpy as np\n",
    "\n",
    "matrix1=tf.constant([[3,3]])\n",
    "matrix2=tf.constant([[2],\n",
    "                     [2]])\n",
    "product=tf.matmul(matrix1,matrix2) #np.dot()\n",
    "\n",
    "sess=tf.Session()\n",
    "result=sess.run(product)\n",
    "print(result)\n",
    "sess.close()\n",
    "\n",
    "with tf.Session() as sess:\n",
    "\tresult2=sess.run(product)\n",
    "\tprint(result2)"
   ]
  }
 ],
 "metadata": {
  "kernelspec": {
   "display_name": "Python 3",
   "language": "python",
   "name": "python3"
  },
  "language_info": {
   "codemirror_mode": {
    "name": "ipython",
    "version": 3
   },
   "file_extension": ".py",
   "mimetype": "text/x-python",
   "name": "python",
   "nbconvert_exporter": "python",
   "pygments_lexer": "ipython3",
   "version": "3.6.3"
  }
 },
 "nbformat": 4,
 "nbformat_minor": 2
}
