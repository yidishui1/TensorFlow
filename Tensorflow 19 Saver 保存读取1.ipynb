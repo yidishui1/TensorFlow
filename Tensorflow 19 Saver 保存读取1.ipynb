{
 "cells": [
  {
   "cell_type": "code",
   "execution_count": 6,
   "metadata": {},
   "outputs": [
    {
     "name": "stdout",
     "output_type": "stream",
     "text": [
      "Save to path: my_net/save_net.ckpt\n"
     ]
    }
   ],
   "source": [
    "import tensorflow as tf\n",
    "\n",
    "## Save to file\n",
    "W=tf.Variable([[1,2,3],[3,4,5]],dtype=tf.float32,name='weights')\n",
    "b=tf.Variable([[1,2,3]],dtype=tf.float32,name='biases')\n",
    "\n",
    "init=tf.global_variables_initializer()\n",
    "\n",
    "saver=tf.train.Saver()\n",
    "\n",
    "with tf.Session() as sess:\n",
    "    sess.run(init)\n",
    "    save_path=saver.save(sess,\"my_net/save_net.ckpt\")\n",
    "    print(\"Save to path:\",save_path)"
   ]
  }
 ],
 "metadata": {
  "kernelspec": {
   "display_name": "Python 3",
   "language": "python",
   "name": "python3"
  },
  "language_info": {
   "codemirror_mode": {
    "name": "ipython",
    "version": 3
   },
   "file_extension": ".py",
   "mimetype": "text/x-python",
   "name": "python",
   "nbconvert_exporter": "python",
   "pygments_lexer": "ipython3",
   "version": "3.6.2"
  }
 },
 "nbformat": 4,
 "nbformat_minor": 2
}
