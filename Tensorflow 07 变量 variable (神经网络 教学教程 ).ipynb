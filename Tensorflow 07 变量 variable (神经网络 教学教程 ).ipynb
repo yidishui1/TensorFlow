{
 "cells": [
  {
   "cell_type": "code",
   "execution_count": 1,
   "metadata": {},
   "outputs": [
    {
     "name": "stdout",
     "output_type": "stream",
     "text": [
      "counter:0\n",
      "1\n",
      "2\n",
      "3\n"
     ]
    }
   ],
   "source": [
    "import tensorflow as tf\n",
    "state=tf.Variable(0,name='counter')\n",
    "print(state.name)\n",
    "one=tf.constant(1)\n",
    "new_value=tf.add(state,one)\n",
    "update=tf.assign(state,new_value)\n",
    "\n",
    "init=tf.global_variables_initializer()\n",
    "\n",
    "with tf.Session() as sess:\n",
    "\tsess.run(init)\n",
    "\tfor _ in range(3):\n",
    "\t\tsess.run(update)\n",
    "\t\tprint(sess.run(state))"
   ]
  }
 ],
 "metadata": {
  "kernelspec": {
   "display_name": "Python 3",
   "language": "python",
   "name": "python3"
  },
  "language_info": {
   "codemirror_mode": {
    "name": "ipython",
    "version": 3
   },
   "file_extension": ".py",
   "mimetype": "text/x-python",
   "name": "python",
   "nbconvert_exporter": "python",
   "pygments_lexer": "ipython3",
   "version": "3.6.3"
  }
 },
 "nbformat": 4,
 "nbformat_minor": 2
}
